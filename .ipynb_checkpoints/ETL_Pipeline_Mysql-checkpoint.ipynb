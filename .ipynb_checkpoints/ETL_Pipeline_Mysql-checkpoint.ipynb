{
 "cells": [
  {
   "cell_type": "code",
   "execution_count": 9,
   "id": "9c395f95",
   "metadata": {},
   "outputs": [
    {
     "name": "stdout",
     "output_type": "stream",
     "text": [
      " 1491 records inserted/updated\n",
      "ETL pipeline completed successfully!\n"
     ]
    }
   ],
   "source": [
    "import pandas as pd \n",
    "import mysql.connector as sql\n",
    "\n",
    "# 1. Extract Data from CSV\n",
    "\n",
    "def extract_data(FilePath):\n",
    "    df = pd.read_csv(FilePath)\n",
    "    return df\n",
    "\n",
    "# 2. Transformation data\n",
    "\n",
    "def transform_data(df):\n",
    "    #remove value\n",
    "    df = df.dropna(subset = ['emp_id','email'])\n",
    "    \n",
    "    # Fill missing last names with 'Unknown'\n",
    "    df['last_name'] = df['last_name'].fillna('unknown')\n",
    "    \n",
    "    # Fix email format (remove rows without @)\n",
    "    df = df[df['email'].str.contains('@')]\n",
    "    \n",
    "    # Fill missing salary with average salary\n",
    "    df['salary'] = df['salary'].fillna(df['salary'].mean())\n",
    "    \n",
    "    #all valaues make capital in column department\n",
    "    df['department'] = df['department'].str.upper()\n",
    "    \n",
    "    #remove duplicate value\n",
    "    df.drop_duplicates(inplace = True)\n",
    "    \n",
    "    return df\n",
    "\n",
    "# 3. Load the data in mysql db\n",
    "\n",
    "def connection(host,user,password,database):\n",
    "    con = sql.connect(\n",
    "        host=host,\n",
    "        user=user,\n",
    "        password=password,\n",
    "        database=database\n",
    "    )\n",
    "    return con\n",
    "\n",
    "def load_data_db(df,con):\n",
    "    \n",
    "    cursor=con.cursor()\n",
    "    \n",
    "    def insert(df):\n",
    "        query = \"insert into employee_details (emp_id,first_name,last_name,email,salary,department) values(%s,%s,%s,%s,%s,%s)\"\n",
    "        values = [\n",
    "                    int(df['emp_id']),df['first_name'],df['last_name'],df['email'],float(df['salary']),df['department']\n",
    "        ]\n",
    "        cursor.execute(query,values)\n",
    "        con.commit()\n",
    "        #print(f'inserted {cursor.rowcount} record')\n",
    "    \n",
    "    def update(df):\n",
    "        id = df['emp_id']\n",
    "        query = f\"update employee_details set first_name=%s , last_name=%s , email=%s , salary=%s , department=%s where emp_id=%s\"\n",
    "        values = [\n",
    "            df['first_name'],df['last_name'],df['email'],float(df['salary']),df['department'],int(id)\n",
    "        ]\n",
    "        cursor.execute(query,values)\n",
    "        con.commit()\n",
    "        #print(f'updated {cursor.rowcount} record')\n",
    "    \n",
    "    count = 0;\n",
    "    for x in range(len(df)):\n",
    "        #print(df.iloc[x]['emp_id'])\n",
    "        emp_id = df.iloc[x]['emp_id']\n",
    "        query = f'SELECT count(1) FROM EMPLOYEE_DETAILS WHERE EMP_ID={emp_id}'\n",
    "        #print(query)\n",
    "        cursor.execute(query)\n",
    "        (result,) = cursor.fetchone()\n",
    "\n",
    "        if result == 0:\n",
    "            insert(df.iloc[x])\n",
    "            count = count + 1\n",
    "            #print('insert')\n",
    "        else:\n",
    "            update(df.iloc[x])\n",
    "            count = count + 1\n",
    "            #print('update')\n",
    "    \n",
    "    print(f'{count : } records inserted/updated')\n",
    "    \n",
    "# 4. Main Etl function\n",
    "\n",
    "def run_etl():\n",
    "    host = \"localhost\"\n",
    "    user=\"root\"\n",
    "    password = \"Ankit@123\"\n",
    "    database = \"employee\"\n",
    "    \n",
    "    #File = \"employees_2000.csv\"\n",
    "    File = \"employees_data.csv\"\n",
    "    File_Path = f\"D:\\Ankit\\Projects\\Python\\Files\\{File}\"\n",
    "    \n",
    "    conn = connection(host , user , password , database)\n",
    "    ex_data=extract_data(File_Path)\n",
    "    transformdata=transform_data(ex_data)\n",
    "    #print(transformdata)    \n",
    "    load_data_db(transformdata,conn)\n",
    "    print(\"ETL pipeline completed successfully!\")\n",
    "    \n",
    "if __name__ == \"__main__\":\n",
    "    run_etl()"
   ]
  },
  {
   "cell_type": "code",
   "execution_count": null,
   "id": "5c30e658",
   "metadata": {},
   "outputs": [],
   "source": []
  },
  {
   "cell_type": "code",
   "execution_count": null,
   "id": "d90ad0bb",
   "metadata": {},
   "outputs": [],
   "source": []
  },
  {
   "cell_type": "code",
   "execution_count": null,
   "id": "d40bc7c1",
   "metadata": {},
   "outputs": [],
   "source": []
  },
  {
   "cell_type": "code",
   "execution_count": null,
   "id": "c20ef49d",
   "metadata": {},
   "outputs": [],
   "source": []
  },
  {
   "cell_type": "code",
   "execution_count": null,
   "id": "e160596b",
   "metadata": {},
   "outputs": [],
   "source": []
  },
  {
   "cell_type": "code",
   "execution_count": null,
   "id": "652d83b5",
   "metadata": {},
   "outputs": [],
   "source": []
  },
  {
   "cell_type": "code",
   "execution_count": null,
   "id": "e32efddd",
   "metadata": {},
   "outputs": [],
   "source": []
  },
  {
   "cell_type": "code",
   "execution_count": null,
   "id": "ba8f68c6",
   "metadata": {},
   "outputs": [],
   "source": []
  },
  {
   "cell_type": "code",
   "execution_count": null,
   "id": "5c27cf1a",
   "metadata": {},
   "outputs": [],
   "source": []
  },
  {
   "cell_type": "code",
   "execution_count": null,
   "id": "69622235",
   "metadata": {},
   "outputs": [],
   "source": []
  },
  {
   "cell_type": "code",
   "execution_count": null,
   "id": "03f6e33c",
   "metadata": {},
   "outputs": [],
   "source": []
  },
  {
   "cell_type": "code",
   "execution_count": null,
   "id": "ed55af56",
   "metadata": {},
   "outputs": [],
   "source": []
  },
  {
   "cell_type": "code",
   "execution_count": null,
   "id": "c7c03244",
   "metadata": {},
   "outputs": [],
   "source": []
  },
  {
   "cell_type": "code",
   "execution_count": null,
   "id": "05924df2",
   "metadata": {},
   "outputs": [],
   "source": []
  },
  {
   "cell_type": "code",
   "execution_count": null,
   "id": "98dc1dfd",
   "metadata": {},
   "outputs": [],
   "source": []
  },
  {
   "cell_type": "code",
   "execution_count": null,
   "id": "c7337800",
   "metadata": {},
   "outputs": [],
   "source": []
  },
  {
   "cell_type": "code",
   "execution_count": null,
   "id": "fbd8a5eb",
   "metadata": {},
   "outputs": [],
   "source": []
  },
  {
   "cell_type": "code",
   "execution_count": null,
   "id": "c514a44f",
   "metadata": {},
   "outputs": [],
   "source": []
  }
 ],
 "metadata": {
  "kernelspec": {
   "display_name": "Python 3",
   "language": "python",
   "name": "python3"
  },
  "language_info": {
   "codemirror_mode": {
    "name": "ipython",
    "version": 3
   },
   "file_extension": ".py",
   "mimetype": "text/x-python",
   "name": "python",
   "nbconvert_exporter": "python",
   "pygments_lexer": "ipython3",
   "version": "3.8.8"
  }
 },
 "nbformat": 4,
 "nbformat_minor": 5
}
