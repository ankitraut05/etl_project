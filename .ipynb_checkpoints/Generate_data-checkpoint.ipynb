{
 "cells": [
  {
   "cell_type": "code",
   "execution_count": 2,
   "id": "b511948e",
   "metadata": {},
   "outputs": [
    {
     "ename": "SyntaxError",
     "evalue": "(unicode error) 'unicodeescape' codec can't decode bytes in position 30-31: truncated \\uXXXX escape (<ipython-input-2-2c52eb21b4c3>, line 43)",
     "output_type": "error",
     "traceback": [
      "\u001b[1;36m  File \u001b[1;32m\"<ipython-input-2-2c52eb21b4c3>\"\u001b[1;36m, line \u001b[1;32m43\u001b[0m\n\u001b[1;33m    df_shuffled.to_csv(\"D:\\Ankit\\Projects\\Python\\Files\\unwanted_employees_data.csv\", index=False)\u001b[0m\n\u001b[1;37m                       ^\u001b[0m\n\u001b[1;31mSyntaxError\u001b[0m\u001b[1;31m:\u001b[0m (unicode error) 'unicodeescape' codec can't decode bytes in position 30-31: truncated \\uXXXX escape\n"
     ]
    }
   ],
   "source": [
    "import pandas as pd\n",
    "import random\n",
    "import string\n",
    "import numpy as np\n",
    "\n",
    "# Constants\n",
    "num_records = 2000\n",
    "departments = ['HR', 'Finance', 'IT', 'Marketing', 'Sales', 'Operations', 'Support']\n",
    "\n",
    "# Helper functions\n",
    "def random_string(length=6):\n",
    "    return ''.join(random.choices(string.ascii_lowercase, k=length)).capitalize()\n",
    "\n",
    "def random_email(first, last, include_at=True):\n",
    "    if include_at:\n",
    "        return f\"{first.lower()}.{last.lower()}@example.com\"\n",
    "    else:\n",
    "        return f\"{first.lower()}.{last.lower()}example.com\"  # Missing '@'\n",
    "\n",
    "def generate_employee_data(num_records):\n",
    "    data = []\n",
    "    for i in range(1, num_records + 1):\n",
    "        emp_id = i\n",
    "        first_name = random_string()\n",
    "        last_name = random_string()\n",
    "        email = random_email(first_name, last_name, include_at=random.choice([True, False, True, True]))  # Some missing '@'\n",
    "        salary = random.choice([round(random.uniform(30000, 120000), 2), None, None])  # Some null salaries\n",
    "        department = random.choice(departments)\n",
    "        data.append([emp_id, first_name, last_name, email, salary, department])\n",
    "    return pd.DataFrame(data, columns=['emp_id', 'first_name', 'last_name', 'email', 'salary', 'department'])\n",
    "\n",
    "# Generate base data\n",
    "df = generate_employee_data(num_records)\n",
    "\n",
    "# Introduce duplicates (by copying some rows)\n",
    "duplicates = df.sample(frac=0.05, random_state=1)  # 5% duplicates\n",
    "df_with_duplicates = pd.concat([df, duplicates], ignore_index=True)\n",
    "\n",
    "# Shuffle to mix original and duplicate records\n",
    "df_shuffled = df_with_duplicates.sample(frac=1, random_state=42).reset_index(drop=True)\n",
    "\n",
    "# Save to CSV\n",
    "df_shuffled.to_csv(\"D:\\\\Ankit\\\\Projects\\\\Python\\\\Files\\\\unwanted_employees_data.csv\", index=False)\n",
    "print(\"CSV file 'unwanted_employees_data.csv' created with 2000+ records including nulls and duplicates.\")\n"
   ]
  },
  {
   "cell_type": "code",
   "execution_count": null,
   "id": "18e87e38",
   "metadata": {},
   "outputs": [],
   "source": []
  }
 ],
 "metadata": {
  "kernelspec": {
   "display_name": "Python 3",
   "language": "python",
   "name": "python3"
  },
  "language_info": {
   "codemirror_mode": {
    "name": "ipython",
    "version": 3
   },
   "file_extension": ".py",
   "mimetype": "text/x-python",
   "name": "python",
   "nbconvert_exporter": "python",
   "pygments_lexer": "ipython3",
   "version": "3.8.8"
  }
 },
 "nbformat": 4,
 "nbformat_minor": 5
}
